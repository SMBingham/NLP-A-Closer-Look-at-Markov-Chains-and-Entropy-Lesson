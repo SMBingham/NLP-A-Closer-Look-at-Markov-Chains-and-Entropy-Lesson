{
 "cells": [
  {
   "attachments": {},
   "cell_type": "markdown",
   "metadata": {},
   "source": [
    "# Lesson Notebook\n",
    "## NLP: A Closer Look at Markov Chains and Entropy \n",
    "\n",
    "Written by Shannon Binghan\n",
    "\n",
    "### Notebook Description\n",
    "This notebook contains code to build a Markov prediction machine with order 1."
   ]
  },
  {
   "cell_type": "markdown",
   "metadata": {},
   "source": [
    "## Set up environment."
   ]
  },
  {
   "cell_type": "code",
   "execution_count": null,
   "metadata": {},
   "outputs": [],
   "source": [
    "# Import packages and modules.\n",
    "import numpy  as np\n",
    "import pandas as pd\n",
    "import string\n",
    "\n",
    "import warnings\n",
    "warnings.filterwarnings('ignore')\n",
    "\n",
    "# Increase number of columns that can be viewed in notebook.\n",
    "pd.set_option('display.max_columns', 500)\n",
    "\n",
    "np.random.seed(42)"
   ]
  },
  {
   "cell_type": "markdown",
   "metadata": {},
   "source": [
    "## Load data."
   ]
  },
  {
   "cell_type": "code",
   "execution_count": null,
   "metadata": {},
   "outputs": [],
   "source": [
    "# Load text data.\n",
    "with open('./data/greeneggs.txt', 'r') as myfile:\n",
    "    data=myfile.read().replace('\\n', '')\n",
    "    \n",
    "# Take a look.\n",
    "data"
   ]
  },
  {
   "cell_type": "markdown",
   "metadata": {},
   "source": [
    "## Clean data."
   ]
  },
  {
   "cell_type": "code",
   "execution_count": null,
   "metadata": {},
   "outputs": [],
   "source": [
    "# Replace ending punctu"
   ]
  },
  {
   "cell_type": "code",
   "execution_count": null,
   "metadata": {},
   "outputs": [],
   "source": [
    "# Set alphabet to include space and all lower case letters.\n",
    "alphabet = list(\" \" + string.ascii_lowercase)\n",
    "\n",
    "# Take a look.\n",
    "alphabet[0:5]"
   ]
  },
  {
   "cell_type": "code",
   "execution_count": null,
   "metadata": {},
   "outputs": [],
   "source": []
  },
  {
   "cell_type": "code",
   "execution_count": null,
   "metadata": {},
   "outputs": [],
   "source": [
    "# Strip out all characters that are not letters or spaces.\n",
    "stripped_data = ''\n",
    "\n",
    "# Loop through the data.\n",
    "for c in data:\n",
    "    if c.lower() in alphabet:\n",
    "        stripped_data += c.lower()\n",
    "        \n",
    "# Take a look.\n",
    "stripped_data"
   ]
  },
  {
   "cell_type": "code",
   "execution_count": null,
   "metadata": {},
   "outputs": [],
   "source": [
    "len(stripped_data)"
   ]
  },
  {
   "cell_type": "markdown",
   "metadata": {},
   "source": [
    "## Calculate the bi-gram probabilities."
   ]
  },
  {
   "cell_type": "code",
   "execution_count": null,
   "metadata": {},
   "outputs": [],
   "source": [
    "# Create a dataframe to contain bi-grams counts (where (row, col) is incremented for each character pair (i, j)) .\n",
    "df = pd.DataFrame(0, index=alphabet, columns=alphabet)\n",
    "\n",
    "# Take a look.\n",
    "df.head()"
   ]
  },
  {
   "cell_type": "code",
   "execution_count": null,
   "metadata": {},
   "outputs": [],
   "source": [
    "# Update the bi-gram counts.\n",
    "\n",
    "# Loop through the data.\n",
    "for i in range(0,len(stripped_data) - 1):\n",
    "    df.loc[stripped_data[i], stripped_data[i+1]] += 1\n",
    "                     \n",
    "# Take a look.\n",
    "df.head()"
   ]
  },
  {
   "cell_type": "code",
   "execution_count": null,
   "metadata": {},
   "outputs": [],
   "source": [
    "# Convert counts to probabilities, where P(i, j) = count(i, j) / total(i)\n",
    "\n",
    "# Loop through the df rows (i).\n",
    "for i in alphabet:\n",
    "    counts = df.loc[i].tolist()\n",
    "    total = sum(counts)\n",
    "    \n",
    "    # Loop through the columns by index.\n",
    "    for n in range(0, len(alphabet)):\n",
    "        \n",
    "        # Get column name.\n",
    "        j = alphabet[n]\n",
    "\n",
    "        # Update the entry.\n",
    "        if total > 0:\n",
    "            df.loc[i, j] = (counts[n] / total)\n",
    "        else:\n",
    "            df.loc[i, j] = 0\n",
    "            \n",
    "# Take a look.\n",
    "df.head()"
   ]
  },
  {
   "cell_type": "markdown",
   "metadata": {},
   "source": [
    "## Build words."
   ]
  },
  {
   "cell_type": "code",
   "execution_count": null,
   "metadata": {},
   "outputs": [],
   "source": [
    "# Identify characters that did not appear in the data.\n",
    "df[df.sum(axis=1) == 0]"
   ]
  },
  {
   "cell_type": "code",
   "execution_count": null,
   "metadata": {},
   "outputs": [],
   "source": [
    "# Save non-appearing character(s) in a list.\n",
    "missing = list(df[df.sum(axis=1) == 0].index)\n",
    "\n",
    "# Select first character randomly.\n",
    "seed = False\n",
    "while seed == False:\n",
    "    i = str.join('', (np.random.choice(alphabet, 1)))\n",
    "    \n",
    "    if i not in missing:\n",
    "        seed = True\n",
    "\n",
    "# Set length of message.\n",
    "msg_len = 6000\n",
    "\n",
    "# Initialize message.\n",
    "msg = ''\n",
    "\n",
    "# Build message.\n",
    "for _ in range(0, msg_len):\n",
    "    \n",
    "    msg += i\n",
    "    i = str.join('', (np.random.choice(alphabet, 1, p=df.loc[i].tolist())))\n",
    "\n",
    "# Print message. \n",
    "print(msg)"
   ]
  },
  {
   "cell_type": "code",
   "execution_count": null,
   "metadata": {},
   "outputs": [],
   "source": []
  }
 ],
 "metadata": {
  "kernelspec": {
   "display_name": "Python 3",
   "language": "python",
   "name": "python3"
  },
  "language_info": {
   "codemirror_mode": {
    "name": "ipython",
    "version": 3
   },
   "file_extension": ".py",
   "mimetype": "text/x-python",
   "name": "python",
   "nbconvert_exporter": "python",
   "pygments_lexer": "ipython3",
   "version": "3.6.7"
  }
 },
 "nbformat": 4,
 "nbformat_minor": 2
}
